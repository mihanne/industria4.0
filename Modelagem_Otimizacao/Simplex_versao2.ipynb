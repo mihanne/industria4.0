{
  "nbformat": 4,
  "nbformat_minor": 0,
  "metadata": {
    "colab": {
      "provenance": []
    },
    "kernelspec": {
      "name": "python3",
      "display_name": "Python 3"
    },
    "language_info": {
      "name": "python"
    }
  },
  "cells": [
    {
      "cell_type": "code",
      "execution_count": null,
      "metadata": {
        "colab": {
          "base_uri": "https://localhost:8080/"
        },
        "id": "pAQZsPAGRvER",
        "outputId": "ec263dc8-d9f7-4e11-9131-1d1d097e6292"
      },
      "outputs": [
        {
          "output_type": "stream",
          "name": "stdout",
          "text": [
            "Função objetivo:\n",
            "Lucro total: 2856.00 reais\n",
            "\n",
            "Restrições:\n",
            "5400 kg produção máxima\n",
            "12000 m2 área cultivável total\n",
            "\n",
            "Equações do modelo:\n",
            "0.15 * X1 + 0.10 * X2 + 0.28 * X3 + 0.11 * X4 <= 5400\n",
            "X1 + X2 + X3 + X4 <= 12000\n",
            "\n",
            "Área a ser plantada para cada produto (em m2):\n",
            "Alface: 0.00 m2\n",
            "Tomate: 0.00 m2\n",
            "Tomatinho: 12000.00 m2\n",
            "Pimentão: 0.00 m2\n",
            "\n",
            "Lucro máximo: 2856.00 reais\n"
          ]
        },
        {
          "output_type": "stream",
          "name": "stderr",
          "text": [
            "<ipython-input-11-9b4c3c528c2a>:23: RuntimeWarning: divide by zero encountered in divide\n",
            "  ratios = tableau[:-1, -1] / tableau[:-1, pivot_col]\n"
          ]
        }
      ],
      "source": [
        "import numpy as np\n",
        "\n",
        "def pivot_on(tableau, row, col):\n",
        "    tableau[row, :] /= tableau[row, col]\n",
        "    for r in range(tableau.shape[0]):\n",
        "        if r != row:\n",
        "            tableau[r, :] -= tableau[r, col] * tableau[row, :]\n",
        "\n",
        "def simplex(c, A, b):\n",
        "    num_constraints, num_vars = A.shape\n",
        "    tableau = np.zeros((num_constraints + 1, num_vars + num_constraints + 1))\n",
        "\n",
        "    tableau[:-1, :num_vars] = A\n",
        "    tableau[:-1, num_vars:num_vars + num_constraints] = np.eye(num_constraints)\n",
        "    tableau[:-1, -1] = b\n",
        "    tableau[-1, :num_vars] = -c\n",
        "\n",
        "    while np.min(tableau[-1, :-1]) < 0:\n",
        "        pivot_col = np.argmin(tableau[-1, :-1])\n",
        "        if np.all(tableau[:-1, pivot_col] <= 0):\n",
        "            raise Exception('Problem is unbounded.')\n",
        "\n",
        "        ratios = tableau[:-1, -1] / tableau[:-1, pivot_col]\n",
        "        ratios[ratios <= 0] = np.inf\n",
        "        pivot_row = np.argmin(ratios)\n",
        "\n",
        "        pivot_on(tableau, pivot_row, pivot_col)\n",
        "\n",
        "    solution = np.zeros(num_vars)\n",
        "    for i in range(num_vars):\n",
        "        column = tableau[:-1, i]\n",
        "        if np.count_nonzero(column) == 1 and np.any(column == 1):\n",
        "            one_index = np.where(column == 1)[0][0]\n",
        "            solution[i] = tableau[one_index, -1]\n",
        "\n",
        "    return solution, tableau[-1, -1]\n",
        "\n",
        "# Definição dos dados\n",
        "# Matriz das restrições\n",
        "A = np.array([\n",
        "    [-1, 0, 0, 0],\n",
        "    [0, -1, 0, 0],\n",
        "    [0, 0, -1, 0],\n",
        "    [0, 0, 0, -1],\n",
        "    [1, 1, 1, 1],\n",
        "    [0.15, 0.10, 0.28, 0.11]\n",
        "])\n",
        "\n",
        "# Vetor de limites das restrições\n",
        "b = np.array([2600, 1600, 500, 700, 12000, 5400])\n",
        "c = np.array([0.165, 0.095, 0.238, 0.0825])\n",
        "\n",
        "\n",
        "\n",
        "# Resolvendo o problema usando o método Simplex\n",
        "solution, max_profit = simplex(c, A, b)\n",
        "\n",
        "# Mostrando resultados\n",
        "print(\"Função objetivo:\")\n",
        "print(f\"Lucro total: {max_profit:.2f} reais\")\n",
        "\n",
        "print(\"\\nRestrições:\")\n",
        "print(\"5400 kg produção máxima\")\n",
        "print(\"12000 m2 área cultivável total\")\n",
        "\n",
        "print(\"\\nEquações do modelo:\")\n",
        "print(f\"0.15 * X1 + 0.10 * X2 + 0.28 * X3 + 0.11 * X4 <= 5400\")\n",
        "print(f\"X1 + X2 + X3 + X4 <= 12000\")\n",
        "\n",
        "print(\"\\nÁrea a ser plantada para cada produto (em m2):\")\n",
        "produtos = ['Alface', 'Tomate', 'Tomatinho', 'Pimentão']\n",
        "for i, area in enumerate(solution):\n",
        "    print(f\"{produtos[i]}: {area:.2f} m2\")\n",
        "\n",
        "print(f\"\\nLucro máximo: {max_profit:.2f} reais\")\n"
      ]
    }
  ]
}